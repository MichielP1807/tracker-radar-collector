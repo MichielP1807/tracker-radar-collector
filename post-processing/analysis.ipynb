{
 "cells": [
  {
   "cell_type": "code",
   "execution_count": 7,
   "metadata": {},
   "outputs": [],
   "source": [
    "import json\n",
    "import os\n",
    "from os import path\n",
    "from tqdm import tqdm\n",
    "from tld import get_fld"
   ]
  },
  {
   "cell_type": "code",
   "execution_count": 14,
   "metadata": {},
   "outputs": [
    {
     "name": "stdout",
     "output_type": "stream",
     "text": [
      "Found 748 JSON files\n"
     ]
    }
   ],
   "source": [
    "DATA_PATH = \"/mnt/data/MT/pilot-crawl\"\n",
    "\n",
    "def isCrawlDataFile(filename: str):\n",
    "    return filename.endswith(\".json\") and filename != \"metadata.json\" and path.isfile(path.join(DATA_PATH, filename))\n",
    "\n",
    "json_files = [f for f in os.listdir(DATA_PATH) if isCrawlDataFile(f)]\n",
    "print(\"Found %d JSON files\" % len(json_files))"
   ]
  },
  {
   "cell_type": "code",
   "execution_count": 26,
   "metadata": {},
   "outputs": [
    {
     "name": "stderr",
     "output_type": "stream",
     "text": [
      "100%|██████████| 748/748 [00:00<00:00, 839.72it/s]"
     ]
    },
    {
     "name": "stdout",
     "output_type": "stream",
     "text": [
      "Number of timeouts: 31\n"
     ]
    },
    {
     "name": "stderr",
     "output_type": "stream",
     "text": [
      "\n"
     ]
    }
   ],
   "source": [
    "nr_of_timeouts = 0\n",
    "saved_calls_sorted_by_type = {}\n",
    "\n",
    "for filename in tqdm(json_files):\n",
    "    with open(path.join(DATA_PATH, filename)) as file:\n",
    "        data = json.load(file)\n",
    "        url = data[\"initialUrl\"]\n",
    "        if data[\"timeout\"]:\n",
    "            nr_of_timeouts += 1\n",
    "\n",
    "        # Sort saved calls\n",
    "        if len(data[\"data\"][\"privacySandbox\"][\"savedCalls\"]) > 0:\n",
    "            for saved_call in data[\"data\"][\"privacySandbox\"][\"savedCalls\"]:\n",
    "                saved_call[\"initialUrl\"] = url # include initialUrl in the saved call data\n",
    "\n",
    "                call_type = saved_call[\"description\"]\n",
    "                if call_type not in saved_calls_sorted_by_type:\n",
    "                    saved_calls_sorted_by_type[call_type] = []\n",
    "\n",
    "                saved_calls_sorted_by_type[call_type].append(saved_call)\n",
    "\n",
    "print(\"Number of timeouts:\", nr_of_timeouts)\n"
   ]
  },
  {
   "cell_type": "code",
   "execution_count": 32,
   "metadata": {},
   "outputs": [
    {
     "name": "stdout",
     "output_type": "stream",
     "text": [
      "29 calls for Navigator.joinAdInterestGroup, on 9 distinct sites:\n",
      "\thttp://aliexpress.com/\n",
      "\thttp://zillow.com/\n",
      "\thttp://costco.com/\n",
      "\thttp://netgear.com/\n",
      "\thttp://macys.com/\n",
      "\thttp://alibaba.com/\n",
      "\thttp://rakuten.co.jp/\n",
      "\thttp://reg.ru/\n",
      "\thttp://ui.com/\n"
     ]
    }
   ],
   "source": [
    "for call_type, saved_calls in saved_calls_sorted_by_type.items():\n",
    "    distinct_sites = {call[\"initialUrl\"] for call in saved_calls}\n",
    "    print(\"%d calls for %s, on %d distinct sites:\" % (len(saved_calls), call_type, len(distinct_sites)))\n",
    "    for site in distinct_sites:\n",
    "        print(\"\\t%s\" % site)"
   ]
  },
  {
   "cell_type": "code",
   "execution_count": 34,
   "metadata": {},
   "outputs": [
    {
     "name": "stdout",
     "output_type": "stream",
     "text": [
      "5 distinct interest group owners:\n",
      "\thttps://fledge.teads.tv\n",
      "\thttps://fledge.us.criteo.com\n",
      "\thttps://fledge.as.criteo.com\n",
      "\thttps://fledge.eu.criteo.com\n",
      "\thttps://td.doubleclick.net\n"
     ]
    }
   ],
   "source": [
    "distinct_ig_owners = {call[\"arguments\"][\"0\"][\"owner\"] for call in saved_calls_sorted_by_type[\"Navigator.joinAdInterestGroup\"]}\n",
    "print(\"%d distinct interest group owners:\" % (len(distinct_ig_owners)))\n",
    "for owner in distinct_ig_owners:\n",
    "    print(\"\\t%s\" % owner)"
   ]
  },
  {
   "cell_type": "markdown",
   "metadata": {},
   "source": []
  }
 ],
 "metadata": {
  "kernelspec": {
   "display_name": "Python 3",
   "language": "python",
   "name": "python3"
  },
  "language_info": {
   "codemirror_mode": {
    "name": "ipython",
    "version": 3
   },
   "file_extension": ".py",
   "mimetype": "text/x-python",
   "name": "python",
   "nbconvert_exporter": "python",
   "pygments_lexer": "ipython3",
   "version": "3.8.10"
  }
 },
 "nbformat": 4,
 "nbformat_minor": 2
}
