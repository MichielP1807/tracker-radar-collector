{
 "cells": [
  {
   "cell_type": "code",
   "execution_count": 20,
   "metadata": {},
   "outputs": [],
   "source": [
    "import json\n",
    "import os\n",
    "from os import path\n",
    "from tqdm import tqdm\n",
    "from tld import get_fld\n",
    "import numpy as np\n",
    "import matplotlib.pyplot as plt"
   ]
  },
  {
   "cell_type": "code",
   "execution_count": 3,
   "metadata": {},
   "outputs": [
    {
     "name": "stdout",
     "output_type": "stream",
     "text": [
      "Found 731 JSON files\n"
     ]
    }
   ],
   "source": [
    "DATA_PATH = \"/mnt/data/MT/pilot-crawl2\"\n",
    "\n",
    "def isCrawlDataFile(filename: str):\n",
    "    return filename.endswith(\".json\") and filename != \"metadata.json\" and path.isfile(path.join(DATA_PATH, filename))\n",
    "\n",
    "json_files = [f for f in os.listdir(DATA_PATH) if isCrawlDataFile(f)]\n",
    "print(\"Found %d JSON files\" % len(json_files))"
   ]
  },
  {
   "cell_type": "code",
   "execution_count": 4,
   "metadata": {},
   "outputs": [
    {
     "name": "stderr",
     "output_type": "stream",
     "text": [
      "100%|██████████| 731/731 [00:10<00:00, 68.63it/s] "
     ]
    },
    {
     "name": "stdout",
     "output_type": "stream",
     "text": [
      "Number of timeouts: 53\n"
     ]
    },
    {
     "name": "stderr",
     "output_type": "stream",
     "text": [
      "\n"
     ]
    }
   ],
   "source": [
    "nr_of_timeouts = 0\n",
    "saved_calls_sorted_by_type = {}\n",
    "\n",
    "for filename in tqdm(json_files):\n",
    "    with open(path.join(DATA_PATH, filename)) as file:\n",
    "        api_data_per_site = json.load(file)\n",
    "        url = api_data_per_site[\"initialUrl\"]\n",
    "        if api_data_per_site[\"timeout\"]:\n",
    "            nr_of_timeouts += 1\n",
    "\n",
    "        # Sort saved calls\n",
    "        ps_data = api_data_per_site[\"data\"][\"privacySandbox\"]\n",
    "        if not ps_data:\n",
    "            continue\n",
    "        saved_calls = ps_data[\"savedCalls\"]\n",
    "        if len(saved_calls) > 0:\n",
    "            for saved_call in saved_calls:\n",
    "                saved_call[\"initialUrl\"] = url # include initialUrl in the saved call data\n",
    "\n",
    "                call_type = saved_call[\"description\"]\n",
    "                if call_type not in saved_calls_sorted_by_type:\n",
    "                    saved_calls_sorted_by_type[call_type] = []\n",
    "\n",
    "                saved_calls_sorted_by_type[call_type].append(saved_call)\n",
    "\n",
    "print(\"Number of timeouts:\", nr_of_timeouts)\n"
   ]
  },
  {
   "cell_type": "markdown",
   "metadata": {},
   "source": [
    "### On which sites are the API calls?"
   ]
  },
  {
   "cell_type": "code",
   "execution_count": 58,
   "metadata": {},
   "outputs": [
    {
     "data": {
      "image/png": "[encoded data removed]",
      "text/plain": [
       "<Figure size 720x432 with 1 Axes>"
      ]
     },
     "metadata": {
      "needs_background": "light"
     },
     "output_type": "display_data"
    },
    {
     "name": "stdout",
     "output_type": "stream",
     "text": [
      "629 calls for Document.browsingTopics, on 98 distinct sites\n",
      "\t41 uol.com.br\n",
      "\t25 elmundo.es\n",
      "\t25 nypost.com\n",
      "\t24 repubblica.it\n",
      "\t22 usatoday.com\n",
      "\t21 dailymail.co.uk\n",
      "\t18 cnet.com\n",
      "\t13 independent.co.uk\n",
      "\t12 time.com\n",
      "\t12 telegraph.co.uk\n",
      "\t...\n",
      "141 calls for Navigator.joinAdInterestGroup, on 24 distinct sites\n",
      "\t42 wiley.com\n",
      "\t12 dell.com\n",
      "\t9 ui.com\n",
      "\t8 rakuten.co.jp\n",
      "\t8 netgear.com\n",
      "\t8 macys.com\n",
      "\t7 scribd.com\n",
      "\t6 ubnt.com\n",
      "\t6 splashtop.com\n",
      "\t4 hostgator.com.br\n",
      "\t...\n",
      "34 calls for Navigator.runAdAuction, on 4 distinct sites\n",
      "\t15 buzzfeed.com\n",
      "\t13 huffpost.com\n",
      "\t5 speedtest.net\n",
      "\t1 chess.com\n"
     ]
    }
   ],
   "source": [
    "api_data_per_site = {}\n",
    "types = saved_calls_sorted_by_type.keys()\n",
    "for i, (call_type, saved_calls) in enumerate(saved_calls_sorted_by_type.items()):\n",
    "    for call in saved_calls:\n",
    "        site = get_fld(call[\"initialUrl\"])\n",
    "        if not site in api_data_per_site:\n",
    "            api_data_per_site[site] = np.zeros(len(types))\n",
    "        api_data_per_site[site][i] += 1\n",
    "\n",
    "width = 0.5\n",
    "\n",
    "fig, ax = plt.subplots(1, 1, figsize=(10,6))\n",
    "bottom = np.zeros(3)\n",
    "\n",
    "for site, nr_of_calls in api_data_per_site.items():\n",
    "    p = ax.bar(types, nr_of_calls, width, label=site, bottom=bottom)\n",
    "    bottom += nr_of_calls\n",
    "\n",
    "ax.set_title(\"Number of sites using Protected Audience API or Topics API\")\n",
    "plt.show()\n",
    "\n",
    "for i, (call_type, saved_calls) in enumerate(saved_calls_sorted_by_type.items()):\n",
    "    all_sites = [get_fld(call[\"initialUrl\"]) for call in saved_calls]\n",
    "    distinct_sites = sorted(set(all_sites), key=lambda d: all_sites.count(d), reverse=True)\n",
    "\n",
    "    print(\"%d calls for %s, on %d distinct sites\" % (len(saved_calls), call_type, len(distinct_sites)))\n",
    "    for site in distinct_sites[:10]:\n",
    "        print(\"\\t%d %s\" % (api_data_per_site[site][i], site))\n",
    "    if len(distinct_sites) > 10:\n",
    "        print(\"\\t...\")"
   ]
  },
  {
   "cell_type": "markdown",
   "metadata": {},
   "source": [
    "### Which sources are the API calls coming?"
   ]
  },
  {
   "cell_type": "code",
   "execution_count": 57,
   "metadata": {},
   "outputs": [
    {
     "name": "stdout",
     "output_type": "stream",
     "text": [
      "629 calls for Document.browsingTopics, from 15 distinct callers\n",
      "\t283 doubleclick.net\n",
      "\t113 criteo.com\n",
      "\t68 taboola.com\n",
      "\t54 teads.tv\n",
      "\t39 uol.com.br\n",
      "\t26 weborama.fr\n",
      "\t13 creativecdn.com\n",
      "\t9 top100.ru\n",
      "\t5 pubmatic.com\n",
      "\t5 affec.tv\n",
      "\t4 authorizedvault.com\n",
      "\t4 sunmedia.tv\n",
      "\t3 dailymail.co.uk\n",
      "\t2 walmart.com\n",
      "\t1 fsdn.com\n",
      "141 calls for Navigator.joinAdInterestGroup, from 2 distinct callers\n",
      "\t102 doubleclick.net\n",
      "\t39 criteo.com\n",
      "34 calls for Navigator.runAdAuction, from 1 distinct callers\n",
      "\t34 doubleclick.net\n"
     ]
    }
   ],
   "source": [
    "for call_type, saved_calls in saved_calls_sorted_by_type.items():\n",
    "    all_sites = [get_fld(call[\"source\"]) for call in saved_calls]\n",
    "    distinct_callers = sorted(set(all_sites), key=lambda d: all_sites.count(d), reverse=True)\n",
    "\n",
    "    print(\"%d calls for %s, from %d distinct callers\" % (len(saved_calls), call_type, len(distinct_callers)))\n",
    "    for caller in distinct_callers:\n",
    "        print(\"\\t%d %s\" % (all_sites.count(caller), caller))"
   ]
  },
  {
   "cell_type": "markdown",
   "metadata": {},
   "source": [
    "### Who are the interest group owners?"
   ]
  },
  {
   "cell_type": "code",
   "execution_count": 56,
   "metadata": {},
   "outputs": [
    {
     "name": "stdout",
     "output_type": "stream",
     "text": [
      "4 distinct interest group owners:\n",
      "\t102 https://td.doubleclick.net\n",
      "\t23 https://fledge.us.criteo.com\n",
      "\t8 https://fledge.eu.criteo.com\n",
      "\t8 https://fledge.as.criteo.com\n"
     ]
    }
   ],
   "source": [
    "all_owners = [call[\"arguments\"][\"0\"][\"owner\"] for call in saved_calls_sorted_by_type[\"Navigator.joinAdInterestGroup\"]]\n",
    "distinct_owners = sorted(set(all_owners), key=lambda d: all_owners.count(d), reverse=True)\n",
    "print(\"%d distinct interest group owners:\" % (len(distinct_owners)))\n",
    "for owner in distinct_owners:\n",
    "    print(\"\\t%d %s\" % (all_owners.count(owner), owner))"
   ]
  },
  {
   "cell_type": "markdown",
   "metadata": {},
   "source": [
    "### Who are the auction sellers?"
   ]
  },
  {
   "cell_type": "code",
   "execution_count": 61,
   "metadata": {},
   "outputs": [
    {
     "name": "stdout",
     "output_type": "stream",
     "text": [
      "1 distinct auction sellers:\n",
      "\t34 https://securepubads.g.doubleclick.net\n"
     ]
    }
   ],
   "source": [
    "all_sellers = [call[\"arguments\"][\"0\"][\"seller\"] for call in saved_calls_sorted_by_type[\"Navigator.runAdAuction\"]]\n",
    "distinct_sellers = sorted(set(all_sellers), key=lambda d: all_sellers.count(d), reverse=True)\n",
    "print(\"%d distinct auction sellers:\" % (len(distinct_sellers)))\n",
    "for seller in distinct_sellers:\n",
    "    print(\"\\t%d %s\" % (all_sellers.count(seller), seller))"
   ]
  },
  {
   "cell_type": "markdown",
   "metadata": {},
   "source": []
  }
 ],
 "metadata": {
  "kernelspec": {
   "display_name": "Python 3",
   "language": "python",
   "name": "python3"
  },
  "language_info": {
   "codemirror_mode": {
    "name": "ipython",
    "version": 3
   },
   "file_extension": ".py",
   "mimetype": "text/x-python",
   "name": "python",
   "nbconvert_exporter": "python",
   "pygments_lexer": "ipython3",
   "version": "3.8.10"
  }
 },
 "nbformat": 4,
 "nbformat_minor": 2
}
